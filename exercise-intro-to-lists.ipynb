{
 "cells": [
  {
   "cell_type": "markdown",
   "id": "6be9c66a",
   "metadata": {
    "papermill": {
     "duration": 0.005269,
     "end_time": "2025-06-07T10:36:07.022071",
     "exception": false,
     "start_time": "2025-06-07T10:36:07.016802",
     "status": "completed"
    },
    "tags": []
   },
   "source": [
    "**This notebook is an exercise in the [Intro to Programming](https://www.kaggle.com/learn/intro-to-programming) course.  You can reference the tutorial at [this link](https://www.kaggle.com/alexisbcook/intro-to-lists).**\n",
    "\n",
    "---\n"
   ]
  },
  {
   "cell_type": "markdown",
   "id": "4a206c34",
   "metadata": {
    "papermill": {
     "duration": 0.005193,
     "end_time": "2025-06-07T10:36:07.033936",
     "exception": false,
     "start_time": "2025-06-07T10:36:07.028743",
     "status": "completed"
    },
    "tags": []
   },
   "source": [
    "In the tutorial, you learned how to define and modify Python lists.  In this exercise, you will use your new knowledge to solve several problems.\n",
    "\n",
    "# Set up the notebook\n",
    "\n",
    "Run the next code cell without changes to set up the notebook."
   ]
  },
  {
   "cell_type": "code",
   "execution_count": 1,
   "id": "e0ef01a3",
   "metadata": {
    "execution": {
     "iopub.execute_input": "2025-06-07T10:36:07.045912Z",
     "iopub.status.busy": "2025-06-07T10:36:07.045450Z",
     "iopub.status.idle": "2025-06-07T10:36:09.263380Z",
     "shell.execute_reply": "2025-06-07T10:36:09.262380Z"
    },
    "papermill": {
     "duration": 2.226012,
     "end_time": "2025-06-07T10:36:09.265029",
     "exception": false,
     "start_time": "2025-06-07T10:36:07.039017",
     "status": "completed"
    },
    "tags": []
   },
   "outputs": [
    {
     "name": "stdout",
     "output_type": "stream",
     "text": [
      "Setup complete.\n"
     ]
    }
   ],
   "source": [
    "from learntools.core import binder\n",
    "binder.bind(globals())\n",
    "from learntools.intro_to_programming.ex5 import *\n",
    "print('Setup complete.')"
   ]
  },
  {
   "cell_type": "markdown",
   "id": "108fd22f",
   "metadata": {
    "papermill": {
     "duration": 0.004092,
     "end_time": "2025-06-07T10:36:09.273821",
     "exception": false,
     "start_time": "2025-06-07T10:36:09.269729",
     "status": "completed"
    },
    "tags": []
   },
   "source": [
    "# Question 1\n",
    "\n",
    "You own a restaurant with five food dishes, organized in the Python list `menu` below.  One day, you decide to:\n",
    "- remove bean soup (`'bean soup'`) from the menu, and\n",
    "- add roasted beet salad (`'roasted beet salad'`) to the menu.\n",
    "\n",
    "Implement this change to the list below.  While completing this task, \n",
    "- do not change the line that creates the `menu` list.  \n",
    "- your answer should use `.remove()` and `.append()`.  "
   ]
  },
  {
   "cell_type": "code",
   "execution_count": 2,
   "id": "4184d18c",
   "metadata": {
    "execution": {
     "iopub.execute_input": "2025-06-07T10:36:09.284581Z",
     "iopub.status.busy": "2025-06-07T10:36:09.284045Z",
     "iopub.status.idle": "2025-06-07T10:36:09.293321Z",
     "shell.execute_reply": "2025-06-07T10:36:09.292357Z"
    },
    "papermill": {
     "duration": 0.016791,
     "end_time": "2025-06-07T10:36:09.294902",
     "exception": false,
     "start_time": "2025-06-07T10:36:09.278111",
     "status": "completed"
    },
    "tags": []
   },
   "outputs": [
    {
     "data": {
      "application/javascript": [
       "parent.postMessage({\"jupyterEvent\": \"custom.exercise_interaction\", \"data\": {\"outcomeType\": 1, \"valueTowardsCompletion\": 0.2, \"interactionType\": 1, \"questionType\": 2, \"questionId\": \"1_FoodMenu\", \"learnToolsVersion\": \"0.3.5\", \"failureMessage\": \"\", \"exceptionClass\": \"\", \"trace\": \"\"}}, \"*\")"
      ],
      "text/plain": [
       "<IPython.core.display.Javascript object>"
      ]
     },
     "metadata": {},
     "output_type": "display_data"
    },
    {
     "data": {
      "text/markdown": [
       "<span style=\"color:#33cc33\">Correct</span>"
      ],
      "text/plain": [
       "Correct"
      ]
     },
     "metadata": {},
     "output_type": "display_data"
    }
   ],
   "source": [
    "# Do not change: Initial menu for your restaurant\n",
    "menu = ['stewed meat with onions', 'bean soup', 'risotto with trout and shrimp',\n",
    "       'fish soup with cream and onion', 'gyro']\n",
    "\n",
    "# TODO: remove 'bean soup', and add 'roasted beet salad' to the end of the menu\n",
    "menu.remove('bean soup')\n",
    "menu.append('roasted beet salad')\n",
    "\n",
    "# Do not change: Check your answer\n",
    "q1.check()"
   ]
  },
  {
   "cell_type": "code",
   "execution_count": 3,
   "id": "8fddc047",
   "metadata": {
    "execution": {
     "iopub.execute_input": "2025-06-07T10:36:09.305456Z",
     "iopub.status.busy": "2025-06-07T10:36:09.305140Z",
     "iopub.status.idle": "2025-06-07T10:36:09.309334Z",
     "shell.execute_reply": "2025-06-07T10:36:09.308432Z"
    },
    "papermill": {
     "duration": 0.011175,
     "end_time": "2025-06-07T10:36:09.310789",
     "exception": false,
     "start_time": "2025-06-07T10:36:09.299614",
     "status": "completed"
    },
    "tags": []
   },
   "outputs": [],
   "source": [
    "# Uncomment to see a hint\n",
    "#q1.hint()\n",
    "\n",
    "# Uncomment to see the solution\n",
    "#q1.solution()"
   ]
  },
  {
   "cell_type": "markdown",
   "id": "f1e938af",
   "metadata": {
    "papermill": {
     "duration": 0.004446,
     "end_time": "2025-06-07T10:36:09.320195",
     "exception": false,
     "start_time": "2025-06-07T10:36:09.315749",
     "status": "completed"
    },
    "tags": []
   },
   "source": [
    "# Question 2\n",
    "\n",
    "The list `num_customers` contains the number of customers who came into your restaurant every day over the last month (which lasted thirty days).  Fill in values for each of the following:\n",
    "- `avg_first_seven` - average number of customers who visited in the first seven days\n",
    "- `avg_last_seven` - average number of customers who visited in the last seven days\n",
    "- `max_month` - number of customers on the day that got the most customers in the last month\n",
    "- `min_month` - number of customers on the day that got the least customers in the last month\n",
    "\n",
    "Answer this question by writing code.  For instance, if you have to find the minimum value in a list, use `min()` instead of scanning for the smallest value and directly filling in a number."
   ]
  },
  {
   "cell_type": "code",
   "execution_count": 4,
   "id": "d8b6e345",
   "metadata": {
    "execution": {
     "iopub.execute_input": "2025-06-07T10:36:09.331133Z",
     "iopub.status.busy": "2025-06-07T10:36:09.330794Z",
     "iopub.status.idle": "2025-06-07T10:36:09.340068Z",
     "shell.execute_reply": "2025-06-07T10:36:09.339168Z"
    },
    "papermill": {
     "duration": 0.016787,
     "end_time": "2025-06-07T10:36:09.341699",
     "exception": false,
     "start_time": "2025-06-07T10:36:09.324912",
     "status": "completed"
    },
    "tags": []
   },
   "outputs": [
    {
     "data": {
      "application/javascript": [
       "parent.postMessage({\"jupyterEvent\": \"custom.exercise_interaction\", \"data\": {\"outcomeType\": 1, \"valueTowardsCompletion\": 0.2, \"interactionType\": 1, \"questionType\": 1, \"questionId\": \"2_NumCustomers\", \"learnToolsVersion\": \"0.3.5\", \"failureMessage\": \"\", \"exceptionClass\": \"\", \"trace\": \"\"}}, \"*\")"
      ],
      "text/plain": [
       "<IPython.core.display.Javascript object>"
      ]
     },
     "metadata": {},
     "output_type": "display_data"
    },
    {
     "data": {
      "text/markdown": [
       "<span style=\"color:#33cc33\">Correct</span>"
      ],
      "text/plain": [
       "Correct"
      ]
     },
     "metadata": {},
     "output_type": "display_data"
    }
   ],
   "source": [
    "# Do not change: Number of customers each day for the last month\n",
    "num_customers = [137, 147, 135, 128, 170, 174, 165, 146, 126, 159,\n",
    "                 141, 148, 132, 147, 168, 153, 170, 161, 148, 152,\n",
    "                 141, 151, 131, 149, 164, 163, 143, 143, 166, 171]\n",
    "\n",
    "# TODO: Fill in values for the variables below\n",
    "avg_first_seven = sum(num_customers[:7]) / 7\n",
    "avg_last_seven = sum(num_customers[-7:]) / 7\n",
    "max_month = max(num_customers)\n",
    "min_month = min(num_customers)\n",
    "\n",
    "# Do not change: Check your answer\n",
    "q2.check()"
   ]
  },
  {
   "cell_type": "code",
   "execution_count": 5,
   "id": "fb8d5e7c",
   "metadata": {
    "execution": {
     "iopub.execute_input": "2025-06-07T10:36:09.353231Z",
     "iopub.status.busy": "2025-06-07T10:36:09.352909Z",
     "iopub.status.idle": "2025-06-07T10:36:09.357368Z",
     "shell.execute_reply": "2025-06-07T10:36:09.356498Z"
    },
    "papermill": {
     "duration": 0.011712,
     "end_time": "2025-06-07T10:36:09.358911",
     "exception": false,
     "start_time": "2025-06-07T10:36:09.347199",
     "status": "completed"
    },
    "tags": []
   },
   "outputs": [],
   "source": [
    "# Uncomment to see a hint\n",
    "#q2.hint()\n",
    "\n",
    "# Uncomment to see the solution\n",
    "#q2.solution()"
   ]
  },
  {
   "cell_type": "markdown",
   "id": "8137ebde",
   "metadata": {
    "papermill": {
     "duration": 0.004454,
     "end_time": "2025-06-07T10:36:09.368256",
     "exception": false,
     "start_time": "2025-06-07T10:36:09.363802",
     "status": "completed"
    },
    "tags": []
   },
   "source": [
    "# Question 3\n",
    "\n",
    "In the tutorial, we gave an example of a Python string with information that was better as a list."
   ]
  },
  {
   "cell_type": "code",
   "execution_count": 6,
   "id": "ac3d854f",
   "metadata": {
    "execution": {
     "iopub.execute_input": "2025-06-07T10:36:09.378866Z",
     "iopub.status.busy": "2025-06-07T10:36:09.378503Z",
     "iopub.status.idle": "2025-06-07T10:36:09.382811Z",
     "shell.execute_reply": "2025-06-07T10:36:09.382002Z"
    },
    "papermill": {
     "duration": 0.011473,
     "end_time": "2025-06-07T10:36:09.384388",
     "exception": false,
     "start_time": "2025-06-07T10:36:09.372915",
     "status": "completed"
    },
    "tags": []
   },
   "outputs": [],
   "source": [
    "flowers = \"pink primrose,hard-leaved pocket orchid,canterbury bells,sweet pea,english marigold,tiger lily,moon orchid,bird of paradise,monkshood,globe thistle\""
   ]
  },
  {
   "cell_type": "markdown",
   "id": "2aa9523a",
   "metadata": {
    "papermill": {
     "duration": 0.004617,
     "end_time": "2025-06-07T10:36:09.394014",
     "exception": false,
     "start_time": "2025-06-07T10:36:09.389397",
     "status": "completed"
    },
    "tags": []
   },
   "source": [
    "You can actually use Python to quickly turn this string into a list with `.split()`.  In the parentheses, we need to provide the character should be used to mark the end of one list item and the beginning of another, and enclose it in quotation marks.  In this case, that character is a comma."
   ]
  },
  {
   "cell_type": "code",
   "execution_count": 7,
   "id": "baa81bc0",
   "metadata": {
    "execution": {
     "iopub.execute_input": "2025-06-07T10:36:09.405409Z",
     "iopub.status.busy": "2025-06-07T10:36:09.405097Z",
     "iopub.status.idle": "2025-06-07T10:36:09.410818Z",
     "shell.execute_reply": "2025-06-07T10:36:09.409658Z"
    },
    "papermill": {
     "duration": 0.012893,
     "end_time": "2025-06-07T10:36:09.412258",
     "exception": false,
     "start_time": "2025-06-07T10:36:09.399365",
     "status": "completed"
    },
    "tags": []
   },
   "outputs": [
    {
     "name": "stdout",
     "output_type": "stream",
     "text": [
      "['pink primrose', 'hard-leaved pocket orchid', 'canterbury bells', 'sweet pea', 'english marigold', 'tiger lily', 'moon orchid', 'bird of paradise', 'monkshood', 'globe thistle']\n"
     ]
    }
   ],
   "source": [
    " print(flowers.split(\",\"))"
   ]
  },
  {
   "cell_type": "markdown",
   "id": "3d3b2307",
   "metadata": {
    "papermill": {
     "duration": 0.004739,
     "end_time": "2025-06-07T10:36:09.422007",
     "exception": false,
     "start_time": "2025-06-07T10:36:09.417268",
     "status": "completed"
    },
    "tags": []
   },
   "source": [
    "Now it is your turn to try this out!  Create two Python lists:\n",
    "- `letters` should be a Python list where each entry is an uppercase letter of the English alphabet.  For instance, the first two entries should be `\"A\"` and `\"B\"`, and the final two entries should be `\"Y\"` and `\"Z\"`.  Use the string `alphabet` to create this list.\n",
    "- `address` should be a Python list where each row in `address` is a different item in the list.  Currently, each row in `address` is separated by a comma. "
   ]
  },
  {
   "cell_type": "code",
   "execution_count": 8,
   "id": "d4a193e1",
   "metadata": {
    "execution": {
     "iopub.execute_input": "2025-06-07T10:36:09.433639Z",
     "iopub.status.busy": "2025-06-07T10:36:09.433284Z",
     "iopub.status.idle": "2025-06-07T10:36:09.441760Z",
     "shell.execute_reply": "2025-06-07T10:36:09.440815Z"
    },
    "papermill": {
     "duration": 0.016,
     "end_time": "2025-06-07T10:36:09.443359",
     "exception": false,
     "start_time": "2025-06-07T10:36:09.427359",
     "status": "completed"
    },
    "tags": []
   },
   "outputs": [
    {
     "data": {
      "application/javascript": [
       "parent.postMessage({\"jupyterEvent\": \"custom.exercise_interaction\", \"data\": {\"outcomeType\": 1, \"valueTowardsCompletion\": 0.2, \"interactionType\": 1, \"questionType\": 1, \"questionId\": \"3_SplitString\", \"learnToolsVersion\": \"0.3.5\", \"failureMessage\": \"\", \"exceptionClass\": \"\", \"trace\": \"\"}}, \"*\")"
      ],
      "text/plain": [
       "<IPython.core.display.Javascript object>"
      ]
     },
     "metadata": {},
     "output_type": "display_data"
    },
    {
     "data": {
      "text/markdown": [
       "<span style=\"color:#33cc33\">Correct</span>"
      ],
      "text/plain": [
       "Correct"
      ]
     },
     "metadata": {},
     "output_type": "display_data"
    }
   ],
   "source": [
    "# DO not change: Define two Python strings\n",
    "alphabet = \"A.B.C.D.E.F.G.H.I.J.K.L.M.N.O.P.Q.R.S.T.U.V.W.X.Y.Z\"\n",
    "address = \"Mr. H. Potter,The cupboard under the Stairs,4 Privet Drive,Little Whinging,Surrey\"\n",
    "\n",
    "# TODO: Convert strings into Python lists\n",
    "letters = alphabet.split(\".\")\n",
    "formatted_address = address.split(\",\")\n",
    "# Do not change: Check your answer\n",
    "q3.check()"
   ]
  },
  {
   "cell_type": "code",
   "execution_count": 9,
   "id": "9f06aaee",
   "metadata": {
    "execution": {
     "iopub.execute_input": "2025-06-07T10:36:09.455163Z",
     "iopub.status.busy": "2025-06-07T10:36:09.454851Z",
     "iopub.status.idle": "2025-06-07T10:36:09.458953Z",
     "shell.execute_reply": "2025-06-07T10:36:09.458178Z"
    },
    "papermill": {
     "duration": 0.011833,
     "end_time": "2025-06-07T10:36:09.460514",
     "exception": false,
     "start_time": "2025-06-07T10:36:09.448681",
     "status": "completed"
    },
    "tags": []
   },
   "outputs": [],
   "source": [
    "# Uncomment to see a hint\n",
    "#q3.hint()\n",
    "\n",
    "# Uncomment to see the solution\n",
    "#q3.solution()"
   ]
  },
  {
   "cell_type": "markdown",
   "id": "f04d99ba",
   "metadata": {
    "papermill": {
     "duration": 0.004758,
     "end_time": "2025-06-07T10:36:09.470789",
     "exception": false,
     "start_time": "2025-06-07T10:36:09.466031",
     "status": "completed"
    },
    "tags": []
   },
   "source": [
    "# Question 4\n",
    "\n",
    "In the Python course, you'll learn all about **list comprehensions**, which allow you to create a list based on the values in another list.  In this question, you'll get a brief preview of how they work.\n",
    "\n",
    "Say we're working with the list below."
   ]
  },
  {
   "cell_type": "code",
   "execution_count": 10,
   "id": "f0a71440",
   "metadata": {
    "execution": {
     "iopub.execute_input": "2025-06-07T10:36:09.483564Z",
     "iopub.status.busy": "2025-06-07T10:36:09.482748Z",
     "iopub.status.idle": "2025-06-07T10:36:09.487378Z",
     "shell.execute_reply": "2025-06-07T10:36:09.486510Z"
    },
    "papermill": {
     "duration": 0.012774,
     "end_time": "2025-06-07T10:36:09.488918",
     "exception": false,
     "start_time": "2025-06-07T10:36:09.476144",
     "status": "completed"
    },
    "tags": []
   },
   "outputs": [],
   "source": [
    "test_ratings = [1, 2, 3, 4, 5]"
   ]
  },
  {
   "cell_type": "markdown",
   "id": "02a6ea6f",
   "metadata": {
    "papermill": {
     "duration": 0.004821,
     "end_time": "2025-06-07T10:36:09.498994",
     "exception": false,
     "start_time": "2025-06-07T10:36:09.494173",
     "status": "completed"
    },
    "tags": []
   },
   "source": [
    "Then we can use this list (`test_ratings`) to create a new list (`test_liked`) where each item has been turned into a boolean, depending on whether or not the item is greater than or equal to four."
   ]
  },
  {
   "cell_type": "code",
   "execution_count": 11,
   "id": "1c002c8a",
   "metadata": {
    "execution": {
     "iopub.execute_input": "2025-06-07T10:36:09.510438Z",
     "iopub.status.busy": "2025-06-07T10:36:09.509993Z",
     "iopub.status.idle": "2025-06-07T10:36:09.515527Z",
     "shell.execute_reply": "2025-06-07T10:36:09.514435Z"
    },
    "papermill": {
     "duration": 0.01308,
     "end_time": "2025-06-07T10:36:09.517086",
     "exception": false,
     "start_time": "2025-06-07T10:36:09.504006",
     "status": "completed"
    },
    "tags": []
   },
   "outputs": [
    {
     "name": "stdout",
     "output_type": "stream",
     "text": [
      "[False, False, False, True, True]\n"
     ]
    }
   ],
   "source": [
    "test_liked = [i>=4 for i in test_ratings]\n",
    "print(test_liked)"
   ]
  },
  {
   "cell_type": "markdown",
   "id": "1e93349b",
   "metadata": {
    "papermill": {
     "duration": 0.004888,
     "end_time": "2025-06-07T10:36:09.527612",
     "exception": false,
     "start_time": "2025-06-07T10:36:09.522724",
     "status": "completed"
    },
    "tags": []
   },
   "source": [
    "In this question, you'll use this list comprehension to define a function `percentage_liked()` that takes one argument as input:\n",
    "- `ratings`: list of ratings that people gave to a movie, where each rating is a number between 1-5, inclusive\n",
    "\n",
    "We say someone liked the movie, if they gave a rating of either 4 or 5.  Your function should return the percentage of people who liked the movie.\n",
    "\n",
    "For instance, if we supply a value of `[1, 2, 3, 4, 5, 4, 5, 1]`, then 50% (4/8) of the people liked the movie, and the function should return `0.5`.\n",
    "\n",
    "Part of the function has already been completed for you.  You need only use `list_liked` to calculate `percentage_liked`."
   ]
  },
  {
   "cell_type": "code",
   "execution_count": 12,
   "id": "06fc1d42",
   "metadata": {
    "execution": {
     "iopub.execute_input": "2025-06-07T10:36:09.539850Z",
     "iopub.status.busy": "2025-06-07T10:36:09.538830Z",
     "iopub.status.idle": "2025-06-07T10:36:09.549227Z",
     "shell.execute_reply": "2025-06-07T10:36:09.548204Z"
    },
    "papermill": {
     "duration": 0.018312,
     "end_time": "2025-06-07T10:36:09.551019",
     "exception": false,
     "start_time": "2025-06-07T10:36:09.532707",
     "status": "completed"
    },
    "tags": []
   },
   "outputs": [
    {
     "name": "stdout",
     "output_type": "stream",
     "text": [
      "0.5\n"
     ]
    },
    {
     "data": {
      "application/javascript": [
       "parent.postMessage({\"jupyterEvent\": \"custom.exercise_interaction\", \"data\": {\"outcomeType\": 1, \"valueTowardsCompletion\": 0.2, \"interactionType\": 1, \"questionType\": 2, \"questionId\": \"4_PercentageLiked\", \"learnToolsVersion\": \"0.3.5\", \"failureMessage\": \"\", \"exceptionClass\": \"\", \"trace\": \"\"}}, \"*\")"
      ],
      "text/plain": [
       "<IPython.core.display.Javascript object>"
      ]
     },
     "metadata": {},
     "output_type": "display_data"
    },
    {
     "data": {
      "text/markdown": [
       "<span style=\"color:#33cc33\">Correct</span>"
      ],
      "text/plain": [
       "Correct"
      ]
     },
     "metadata": {},
     "output_type": "display_data"
    }
   ],
   "source": [
    "\n",
    "def percentage_liked(ratings):\n",
    "    list_liked = [i>=4 for i in ratings]\n",
    "    # Calculate the percentage who liked (number of True values divided by total)\n",
    "    percentage_liked = sum(list_liked) / len(ratings)\n",
    "    return percentage_liked\n",
    "\n",
    "# Do not change: should return 0.5\n",
    "print(percentage_liked([1, 2, 3, 4, 5, 4, 5, 1]))\n",
    "\n",
    "# Do not change: Check your answer\n",
    "q4.check()"
   ]
  },
  {
   "cell_type": "code",
   "execution_count": 13,
   "id": "2e48067b",
   "metadata": {
    "execution": {
     "iopub.execute_input": "2025-06-07T10:36:09.563429Z",
     "iopub.status.busy": "2025-06-07T10:36:09.563122Z",
     "iopub.status.idle": "2025-06-07T10:36:09.567458Z",
     "shell.execute_reply": "2025-06-07T10:36:09.566397Z"
    },
    "papermill": {
     "duration": 0.012632,
     "end_time": "2025-06-07T10:36:09.569343",
     "exception": false,
     "start_time": "2025-06-07T10:36:09.556711",
     "status": "completed"
    },
    "tags": []
   },
   "outputs": [],
   "source": [
    "# Uncomment to see a hint\n",
    "#q4.hint()\n",
    "\n",
    "# Uncomment to see the solution\n",
    "#q4.solution()"
   ]
  },
  {
   "cell_type": "markdown",
   "id": "62fe59a2",
   "metadata": {
    "papermill": {
     "duration": 0.005278,
     "end_time": "2025-06-07T10:36:09.580298",
     "exception": false,
     "start_time": "2025-06-07T10:36:09.575020",
     "status": "completed"
    },
    "tags": []
   },
   "source": [
    "# 🌶️ Question 5\n",
    " \n",
    "Say you're doing analytics for a website.  You need to write a function that returns the percentage growth in the total number of users relative to a specified number of years ago.\n",
    "\n",
    "Your function `percentage_growth()` should take two arguments as input:\n",
    "- `num_users` = Python list with the total number of users each year.  So `num_users[0]` is the total number of users in the first year, `num_users[1]` is the total number of users in the second year, and so on.  The final entry in the list gives the total number of users in the most recently completed year.\n",
    "- `yrs_ago` = number of years to go back in time when calculating the growth percentage\n",
    "\n",
    "For instance, say `num_users = [920344, 1043553, 1204334, 1458996, 1503323, 1593432, 1623463, 1843064, 1930992, 2001078]`.\n",
    "- if `yrs_ago = 1`, we want the function to return a value of about `0.036`. This corresponds to a percentage growth of approximately 3.6%, calculated as (2001078 - 1930992)/1930992.\n",
    "- if `years_ago = 7`, we would want to return approximately `0.66`.  This corresponds to a percentage growth of approximately 66%, calculated as (2001078 - 1204334)/1204334.\n",
    "\n",
    "Your coworker sent you a draft of a function, but it doesn't seem to be doing the correct calculation.  Can you figure out what has gone wrong and make the needed changes?"
   ]
  },
  {
   "cell_type": "code",
   "execution_count": 14,
   "id": "6ed82999",
   "metadata": {
    "execution": {
     "iopub.execute_input": "2025-06-07T10:36:09.592724Z",
     "iopub.status.busy": "2025-06-07T10:36:09.592345Z",
     "iopub.status.idle": "2025-06-07T10:36:09.601899Z",
     "shell.execute_reply": "2025-06-07T10:36:09.600985Z"
    },
    "papermill": {
     "duration": 0.017498,
     "end_time": "2025-06-07T10:36:09.603380",
     "exception": false,
     "start_time": "2025-06-07T10:36:09.585882",
     "status": "completed"
    },
    "tags": []
   },
   "outputs": [
    {
     "name": "stdout",
     "output_type": "stream",
     "text": [
      "0.03629533421163837\n",
      "0.6615639847417742\n"
     ]
    },
    {
     "data": {
      "application/javascript": [
       "parent.postMessage({\"jupyterEvent\": \"custom.exercise_interaction\", \"data\": {\"outcomeType\": 1, \"valueTowardsCompletion\": 0.2, \"interactionType\": 1, \"questionType\": 2, \"questionId\": \"5_WebsiteAnalytics\", \"learnToolsVersion\": \"0.3.5\", \"failureMessage\": \"\", \"exceptionClass\": \"\", \"trace\": \"\"}}, \"*\")"
      ],
      "text/plain": [
       "<IPython.core.display.Javascript object>"
      ]
     },
     "metadata": {},
     "output_type": "display_data"
    },
    {
     "data": {
      "text/markdown": [
       "<span style=\"color:#33cc33\">Correct</span>"
      ],
      "text/plain": [
       "Correct"
      ]
     },
     "metadata": {},
     "output_type": "display_data"
    }
   ],
   "source": [
    "def percentage_growth(num_users, yrs_ago):\n",
    "    current = num_users[-1]\n",
    "    past = num_users[-(yrs_ago + 1)]\n",
    "    growth = (current - past) / past\n",
    "    return growth\n",
    "\n",
    "# Do not change: Variable for calculating some test examples\n",
    "num_users_test = [920344, 1043553, 1204334, 1458996, 1503323, 1593432, 1623463, 1843064, 1930992, 2001078]\n",
    "\n",
    "# Do not change: Should return .036\n",
    "print(percentage_growth(num_users_test, 1))\n",
    "\n",
    "# Do not change: Should return 0.66\n",
    "print(percentage_growth(num_users_test, 7))\n",
    "\n",
    "# Do not change: Check your answer\n",
    "q5.check()"
   ]
  },
  {
   "cell_type": "code",
   "execution_count": 15,
   "id": "bbb97fcb",
   "metadata": {
    "execution": {
     "iopub.execute_input": "2025-06-07T10:36:09.616656Z",
     "iopub.status.busy": "2025-06-07T10:36:09.616264Z",
     "iopub.status.idle": "2025-06-07T10:36:09.620565Z",
     "shell.execute_reply": "2025-06-07T10:36:09.619645Z"
    },
    "papermill": {
     "duration": 0.012609,
     "end_time": "2025-06-07T10:36:09.622177",
     "exception": false,
     "start_time": "2025-06-07T10:36:09.609568",
     "status": "completed"
    },
    "tags": []
   },
   "outputs": [],
   "source": [
    "# Uncomment to see a hint\n",
    "#q5.hint()\n",
    "\n",
    "# Uncomment to see the solution\n",
    "#q5.solution()"
   ]
  },
  {
   "cell_type": "markdown",
   "id": "c87aa54f",
   "metadata": {
    "papermill": {
     "duration": 0.005467,
     "end_time": "2025-06-07T10:36:09.633510",
     "exception": false,
     "start_time": "2025-06-07T10:36:09.628043",
     "status": "completed"
    },
    "tags": []
   },
   "source": [
    "# Congratulations!\n",
    "\n",
    "Congratulations for finishing the Intro to Programming course!  You should be proud of your very first steps with learning programming.  As next steps, we recommend taking:\n",
    "- the **[Python course](http://www.kaggle.com/learn/python)**, and \n",
    "- the **[Intro to Machine Learning course](https://www.kaggle.com/learn/intro-to-machine-learning)**."
   ]
  },
  {
   "cell_type": "markdown",
   "id": "fe6af730",
   "metadata": {
    "papermill": {
     "duration": 0.005428,
     "end_time": "2025-06-07T10:36:09.644693",
     "exception": false,
     "start_time": "2025-06-07T10:36:09.639265",
     "status": "completed"
    },
    "tags": []
   },
   "source": [
    "---\n",
    "\n",
    "\n",
    "\n",
    "\n",
    "*Have questions or comments? Visit the [course discussion forum](https://www.kaggle.com/learn/intro-to-programming/discussion) to chat with other learners.*"
   ]
  }
 ],
 "metadata": {
  "kaggle": {
   "accelerator": "none",
   "dataSources": [],
   "isGpuEnabled": false,
   "isInternetEnabled": false,
   "language": "python",
   "sourceType": "notebook"
  },
  "kernelspec": {
   "display_name": "Python 3",
   "language": "python",
   "name": "python3"
  },
  "language_info": {
   "codemirror_mode": {
    "name": "ipython",
    "version": 3
   },
   "file_extension": ".py",
   "mimetype": "text/x-python",
   "name": "python",
   "nbconvert_exporter": "python",
   "pygments_lexer": "ipython3",
   "version": "3.11.11"
  },
  "papermill": {
   "default_parameters": {},
   "duration": 9.360273,
   "end_time": "2025-06-07T10:36:10.170008",
   "environment_variables": {},
   "exception": null,
   "input_path": "__notebook__.ipynb",
   "output_path": "__notebook__.ipynb",
   "parameters": {},
   "start_time": "2025-06-07T10:36:00.809735",
   "version": "2.6.0"
  }
 },
 "nbformat": 4,
 "nbformat_minor": 5
}
